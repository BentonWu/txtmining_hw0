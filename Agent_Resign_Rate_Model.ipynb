{
 "cells": [
  {
   "cell_type": "code",
   "execution_count": null,
   "metadata": {},
   "outputs": [],
   "source": [
    "import pandas as pd\n",
    "import numpy as np\n",
    "import csv as csv\n",
    "import os\n",
    "import sys\n",
    "import codecs\n",
    "import time\n",
    "import datetime\n",
    "\n",
    "import seaborn as sns \n",
    "import sklearn\n",
    "from sklearn import tree\n",
    "from sklearn.model_selection import train_test_split\n",
    "from sklearn.metrics import classification_report, confusion_matrix\n",
    "from sklearn.utils import resample\n",
    "from sklearn.tree import DecisionTreeClassifier\n",
    "from sklearn.ensemble import RandomForestClassifier\n",
    "from sklearn.linear_model import LinearRegression\n",
    "from sklearn.svm import SVC\n",
    "from sklearn.svm import LinearSVC\n",
    "from sklearn.linear_model import LogisticRegression\n",
    "from sklearn.model_selection import KFold\n",
    "from sklearn.model_selection import GridSearchCV\n",
    "from matplotlib.font_manager import FontProperties\n",
    "from collections import Counter\n",
    "\n",
    "from scipy import stats\n",
    "import matplotlib.pyplot as plt\n",
    "import matplotlib\n",
    "import plotly.plotly as py\n",
    "import plotly.graph_objs as go\n",
    "import psutil\n",
    "from mpl_toolkits.mplot3d import Axes3D\n",
    "%matplotlib inline\n",
    "myfont = FontProperties(fname=r'/var/anaconda3/jupyter/derrick.wu/msjh.ttc')\n",
    "my_font = matplotlib.font_manager.FontProperties(fname=r'/var/anaconda3/jupyter/derrick.wu/msjh.ttc')\n",
    "pd.set_option('display.max_columns',1000) "
   ]
  },
  {
   "cell_type": "code",
   "execution_count": 1,
   "metadata": {},
   "outputs": [
    {
     "name": "stdout",
     "output_type": "stream",
     "text": [
      "Collecting upgrade\n",
      "  Could not fetch URL https://pypi.org/simple/upgrade/: There was a problem confirming the ssl certificate: HTTPSConnectionPool(host='pypi.org', port=443): Max retries exceeded with url: /simple/upgrade/ (Caused by SSLError(SSLError(1, '[SSL: CERTIFICATE_VERIFY_FAILED] certificate verify failed (_ssl.c:833)'),)) - skipping\n",
      "Could not fetch URL https://pypi.org/simple/pip/: There was a problem confirming the ssl certificate: HTTPSConnectionPool(host='pypi.org', port=443): Max retries exceeded with url: /simple/pip/ (Caused by SSLError(SSLError(1, '[SSL: CERTIFICATE_VERIFY_FAILED] certificate verify failed (_ssl.c:833)'),)) - skipping\n"
     ]
    },
    {
     "name": "stderr",
     "output_type": "stream",
     "text": [
      "  Retrying (Retry(total=4, connect=None, read=None, redirect=None, status=None)) after connection broken by 'SSLError(SSLError(1, '[SSL: CERTIFICATE_VERIFY_FAILED] certificate verify failed (_ssl.c:833)'),)': /simple/upgrade/\n",
      "  Retrying (Retry(total=3, connect=None, read=None, redirect=None, status=None)) after connection broken by 'SSLError(SSLError(1, '[SSL: CERTIFICATE_VERIFY_FAILED] certificate verify failed (_ssl.c:833)'),)': /simple/upgrade/\n",
      "  Retrying (Retry(total=2, connect=None, read=None, redirect=None, status=None)) after connection broken by 'SSLError(SSLError(1, '[SSL: CERTIFICATE_VERIFY_FAILED] certificate verify failed (_ssl.c:833)'),)': /simple/upgrade/\n",
      "  Retrying (Retry(total=1, connect=None, read=None, redirect=None, status=None)) after connection broken by 'SSLError(SSLError(1, '[SSL: CERTIFICATE_VERIFY_FAILED] certificate verify failed (_ssl.c:833)'),)': /simple/upgrade/\n",
      "  Retrying (Retry(total=0, connect=None, read=None, redirect=None, status=None)) after connection broken by 'SSLError(SSLError(1, '[SSL: CERTIFICATE_VERIFY_FAILED] certificate verify failed (_ssl.c:833)'),)': /simple/upgrade/\n",
      "  Could not find a version that satisfies the requirement upgrade (from versions: )\n",
      "No matching distribution found for upgrade\n"
     ]
    }
   ],
   "source": [
    "! python -m pip install -- upgrade pip"
   ]
  },
  {
   "cell_type": "code",
   "execution_count": null,
   "metadata": {},
   "outputs": [],
   "source": [
    "Data=pd.read_csv(r'C:\\Users\\derrick.wu\\Documents\\DW\\Resign_Rate_Model.csv',header=0,encoding = 'utf-8',low_memory=False)"
   ]
  },
  {
   "cell_type": "code",
   "execution_count": 2,
   "metadata": {},
   "outputs": [
    {
     "name": "stdout",
     "output_type": "stream",
     "text": [
      "Collecting catboost\n",
      "  Could not fetch URL https://pypi.org/simple/catboost/: There was a problem confirming the ssl certificate: HTTPSConnectionPool(host='pypi.org', port=443): Max retries exceeded with url: /simple/catboost/ (Caused by SSLError(SSLError(1, '[SSL: CERTIFICATE_VERIFY_FAILED] certificate verify failed (_ssl.c:833)'),)) - skipping\n",
      "Could not fetch URL https://pypi.org/simple/pip/: There was a problem confirming the ssl certificate: HTTPSConnectionPool(host='pypi.org', port=443): Max retries exceeded with url: /simple/pip/ (Caused by SSLError(SSLError(1, '[SSL: CERTIFICATE_VERIFY_FAILED] certificate verify failed (_ssl.c:833)'),)) - skipping\n"
     ]
    },
    {
     "name": "stderr",
     "output_type": "stream",
     "text": [
      "  Retrying (Retry(total=4, connect=None, read=None, redirect=None, status=None)) after connection broken by 'SSLError(SSLError(1, '[SSL: CERTIFICATE_VERIFY_FAILED] certificate verify failed (_ssl.c:833)'),)': /simple/catboost/\n",
      "  Retrying (Retry(total=3, connect=None, read=None, redirect=None, status=None)) after connection broken by 'SSLError(SSLError(1, '[SSL: CERTIFICATE_VERIFY_FAILED] certificate verify failed (_ssl.c:833)'),)': /simple/catboost/\n",
      "  Retrying (Retry(total=2, connect=None, read=None, redirect=None, status=None)) after connection broken by 'SSLError(SSLError(1, '[SSL: CERTIFICATE_VERIFY_FAILED] certificate verify failed (_ssl.c:833)'),)': /simple/catboost/\n",
      "  Retrying (Retry(total=1, connect=None, read=None, redirect=None, status=None)) after connection broken by 'SSLError(SSLError(1, '[SSL: CERTIFICATE_VERIFY_FAILED] certificate verify failed (_ssl.c:833)'),)': /simple/catboost/\n",
      "  Retrying (Retry(total=0, connect=None, read=None, redirect=None, status=None)) after connection broken by 'SSLError(SSLError(1, '[SSL: CERTIFICATE_VERIFY_FAILED] certificate verify failed (_ssl.c:833)'),)': /simple/catboost/\n",
      "  Could not find a version that satisfies the requirement catboost (from versions: )\n",
      "No matching distribution found for catboost\n"
     ]
    }
   ],
   "source": [
    "! pip install catboost"
   ]
  },
  {
   "cell_type": "code",
   "execution_count": null,
   "metadata": {},
   "outputs": [],
   "source": []
  },
  {
   "cell_type": "code",
   "execution_count": null,
   "metadata": {},
   "outputs": [],
   "source": []
  },
  {
   "cell_type": "code",
   "execution_count": null,
   "metadata": {},
   "outputs": [],
   "source": []
  },
  {
   "cell_type": "code",
   "execution_count": null,
   "metadata": {},
   "outputs": [],
   "source": []
  },
  {
   "cell_type": "code",
   "execution_count": null,
   "metadata": {},
   "outputs": [],
   "source": [
    "#讀入uc01\n",
    "t2=time.time()\n",
    "uc01 = pd.read_csv('/var/anaconda3/jupyter/share/002_SourceData/EUC_files/Policy_UC01_201906.csv',header=0,encoding = 'utf-8',low_memory=False)\n",
    "print(\"Reading uc01.CSV costs \"+str(time.time()-t2)+\" seconds\")\n",
    "#讀uc02\n",
    "t2=time.time()\n",
    "uc02 = pd.read_csv('/var/anaconda3/jupyter/share/002_SourceData/EUC_files/UC02_201906.csv',header=0,encoding = 'utf-8',error_bad_lines=False,low_memory=False)\n",
    "print(\"Reading uc02.CSV costs \"+str(time.time()-t2)+\" seconds\")\n",
    "\n",
    "#讀uc05\n",
    "t2=time.time()\n",
    "uc05 = pd.read_csv('/var/anaconda3/jupyter/share/002_SourceData/EUC_files/CusBase_UC05_201906.csv',header=0,encoding = 'utf-8',low_memory=False)\n",
    "print(\"Reading uc05.CSV costs \"+str(time.time()-t2)+\" seconds\")\n",
    "\n",
    "#讀aa01\n",
    "t2=time.time()\n",
    "aa01= pd.read_csv('/var/anaconda3/jupyter/share/002_SourceData/EUC_files/Agent_base_AA01_201906.csv',header=0,encoding = 'utf-8',error_bad_lines=False,low_memory=False)\n",
    "print(\"Reading aa01.CSV costs \"+str(time.time()-t2)+\" seconds\")\n",
    "                   \n",
    "#讀aa02\n",
    "t2=time.time()\n",
    "aa02= pd.read_csv('/var/anaconda3/jupyter/share/002_SourceData/EUC_files/Office_base_AA02_201906.csv',header=0,encoding = 'utf-8',error_bad_lines=False,low_memory=False)\n",
    "print(\"Reading aa02.CSV costs \"+str(time.time()-t2)+\" seconds\")                   \n",
    "#讀income data\n",
    "income_data=pd.read_csv('/var/anaconda3/jupyter/derrick.wu/income_data.csv',header=0,encoding = 'utf-8',error_bad_lines=False,dtype={'業務員代碼':str,'AGNTNUM':str,'工作月份':str},low_memory=False)\n",
    "income_data=income_data.drop('Unnamed: 0',axis=1)\n",
    "income_data['工作月份']=np.array(income_data.工作月份).astype('<U6').tolist()"
   ]
  },
  {
   "cell_type": "code",
   "execution_count": null,
   "metadata": {},
   "outputs": [],
   "source": [
    "income_data['工作月份']=income_data['工作月份'].astype(int)"
   ]
  },
  {
   "cell_type": "code",
   "execution_count": null,
   "metadata": {},
   "outputs": [],
   "source": [
    "income_data['AGNTNUM']=income_data['AGNTNUM'].astype(int)"
   ]
  },
  {
   "cell_type": "code",
   "execution_count": null,
   "metadata": {},
   "outputs": [],
   "source": [
    "                   \n",
    "#讀subsection\n",
    "t2=time.time()\n",
    "section_table_replace = pd.read_csv('/var/anaconda3/jupyter/share/002_SourceData/MappingTables/subsection對應十分類_例外抽換表.csv',header=0,encoding = 'utf-8',error_bad_lines=False)\n",
    "print(\"Reading Section_table.CSV costs \"+str(time.time()-t2)+\" seconds\")\n",
    "t2=time.time()\n",
    "section_table = pd.read_csv('/var/anaconda3/jupyter/share/002_SourceData/MappingTables/subsection對應十分類.csv',header=0,encoding = 'utf-8',error_bad_lines=False)\n",
    "print(\"Reading Section_table.CSV costs \"+str(time.time()-t2)+\" seconds\")\n",
    "\n",
    "#合併UC01UC02\n",
    "uc0102=uc01.merge(uc02, how='left', on=None, left_on=['Sysfrom','保單號碼'], right_on=['Sysfrom','保單號碼'], left_index=False, right_index=False, sort=False)\n",
    "#uc0102_AG = uc0102[uc0102['業務來源'].isin(['AG'])]\n",
    "#uc0102_AG_sub=uc0102_AG.merge(section_table, how='left', on=None, left_on=['Sub-Section'], right_on=['subsection'], left_index=False, right_index=False, sort=False)\n",
    "\n",
    "#讀入業務資料\n",
    "#Agent_Data=pd.read_csv('/var/anaconda3/jupyter/share/002_SourceData/EUC_files/Agent_base_AA01_201906.csv',header=0,encoding = 'utf-8',error_bad_lines=False)\n",
    "#合併業務資料\n",
    "#uc0102_AG_Agent=uc0102_AG_sub_noNA.merge(Agent_Data, how='left', on=None, left_on=['招攬業代id'], right_on=['業務員ID'], left_index=False, right_index=False, sort=False)\n"
   ]
  },
  {
   "cell_type": "code",
   "execution_count": null,
   "metadata": {},
   "outputs": [],
   "source": [
    "uc0102"
   ]
  },
  {
   "cell_type": "code",
   "execution_count": null,
   "metadata": {},
   "outputs": [],
   "source": [
    "uc01.head()"
   ]
  },
  {
   "cell_type": "code",
   "execution_count": null,
   "metadata": {},
   "outputs": [],
   "source": [
    "aa01.head(1)"
   ]
  },
  {
   "cell_type": "code",
   "execution_count": null,
   "metadata": {},
   "outputs": [],
   "source": [
    "uc05.head(1)"
   ]
  },
  {
   "cell_type": "code",
   "execution_count": null,
   "metadata": {},
   "outputs": [],
   "source": [
    "aa02.head()"
   ]
  },
  {
   "cell_type": "code",
   "execution_count": null,
   "metadata": {},
   "outputs": [],
   "source": [
    "aa01.head()"
   ]
  },
  {
   "cell_type": "code",
   "execution_count": null,
   "metadata": {},
   "outputs": [],
   "source": [
    "aa0102=aa01.merge(aa02, how='left', on=None, left_on=['通訊處代碼'], right_on=['通訊處代碼'], left_index=False, right_index=False, sort=False)\n"
   ]
  },
  {
   "cell_type": "code",
   "execution_count": null,
   "metadata": {},
   "outputs": [],
   "source": [
    "#保留身分別=2的\n",
    "aa0102= aa0102[(aa0102['身分別']==2)]\n",
    "#篩掉無效資料\n",
    "aa_data = pd.concat([aa0102[['業務員代碼','業務員姓名','業務員ID','生日','本次職等變更日','最近舉績日','原始報聘日期','解聘日期 ','區部','職務代號']]], axis=1)\n",
    "#aa_data=aa_data[aa_data['生日']<20010724]\n",
    "#temp = aa_data.copy()\n"
   ]
  },
  {
   "cell_type": "code",
   "execution_count": null,
   "metadata": {},
   "outputs": [],
   "source": [
    "aa_data=aa_data.reset_index(drop=1)"
   ]
  },
  {
   "cell_type": "code",
   "execution_count": null,
   "metadata": {},
   "outputs": [],
   "source": [
    "aa_data.shape"
   ]
  },
  {
   "cell_type": "code",
   "execution_count": null,
   "metadata": {},
   "outputs": [],
   "source": [
    "#time形式=201301\n",
    "def _10mark(data,time,period):\n",
    "    time=time*100\n",
    "    time_temp = data[(data['原始報聘日期']<=time)&(data['解聘日期 ']>=time)]\n",
    "    if int(time/100)%100+period>12:\n",
    "        year=int(time/10000)+1\n",
    "        month = (time%100+period)%12\n",
    "        timeplus=year*10000+month*100\n",
    "    else:\n",
    "        timeplus=time+(period)*100\n",
    "    _1=time_temp[(time_temp['解聘日期 ']<=timeplus)]\n",
    "    _2=time_temp[~(time_temp['解聘日期 ']<=timeplus)]\n",
    "    _1['Left_3m']=1\n",
    "    _2['Left_3m']=0\n",
    "    time_temp=_1.append(_2)\n",
    "    time_temp=time_temp.reset_index(drop=1)\n",
    "    time_temp['Time']=int(time/100)\n",
    "    return(time_temp)"
   ]
  },
  {
   "cell_type": "code",
   "execution_count": null,
   "metadata": {},
   "outputs": [],
   "source": [
    "Final.業務員代碼[1]"
   ]
  },
  {
   "cell_type": "code",
   "execution_count": null,
   "metadata": {},
   "outputs": [],
   "source": [
    "time_temp.append(time_temp,ignore_index=1).業務員代碼[0]"
   ]
  },
  {
   "cell_type": "code",
   "execution_count": null,
   "metadata": {},
   "outputs": [],
   "source": [
    "Final=pd.DataFrame()\n",
    "#判斷取往後'period'個月是否離職\n",
    "period=3\n",
    "#如起始為20160101則20160401之前離職的會被標記為1\n",
    "\n",
    "for i in [2013,2014,2015,2016,2017]:\n",
    "    for j in range(1,13):\n",
    "        time=i*100+j\n",
    "        Final=Final.append(_10mark(aa_data,time,period),ignore_index=1)"
   ]
  },
  {
   "cell_type": "code",
   "execution_count": null,
   "metadata": {
    "scrolled": true
   },
   "outputs": [],
   "source": [
    "Data_incomeandleft=Final.merge(income_data,how='left',left_on=['業務員代碼','Time'],right_on=['AGNTNUM','工作月份'],suffixes=('', '_y'))"
   ]
  },
  {
   "cell_type": "code",
   "execution_count": null,
   "metadata": {},
   "outputs": [],
   "source": [
    "type (income_data.AGNTNUM[0])"
   ]
  },
  {
   "cell_type": "code",
   "execution_count": null,
   "metadata": {},
   "outputs": [],
   "source": [
    "Data_incomeandleft.dropna(how='any',thresh=None, subset=['FYC'], inplace=True)"
   ]
  },
  {
   "cell_type": "code",
   "execution_count": null,
   "metadata": {},
   "outputs": [],
   "source": [
    "Data_incomeandleft.reset_index(drop=1)"
   ]
  },
  {
   "cell_type": "code",
   "execution_count": null,
   "metadata": {},
   "outputs": [],
   "source": [
    "Data=Data_incomeandleft.copy()"
   ]
  },
  {
   "cell_type": "code",
   "execution_count": null,
   "metadata": {},
   "outputs": [],
   "source": [
    "Data_incomeandleft"
   ]
  },
  {
   "cell_type": "code",
   "execution_count": null,
   "metadata": {},
   "outputs": [],
   "source": [
    "Data.columns"
   ]
  },
  {
   "cell_type": "code",
   "execution_count": null,
   "metadata": {},
   "outputs": [],
   "source": [
    "#篩掉收入為零的資料\n",
    "Data=Data[(Data['Total']>0)]"
   ]
  },
  {
   "cell_type": "code",
   "execution_count": null,
   "metadata": {
    "scrolled": true
   },
   "outputs": [],
   "source": [
    "#加入年齡、年資\n",
    "Data['年齡']=round((Data['Time']*100-Data['生日'])/10000)\n",
    "Data['年資']=round((Data['Time']*100-Data['原始報聘日期'])/10000)\n",
    "#加入性別\n",
    "a=np.array(Data['業務員ID'].tolist()).astype('<U2')\n",
    "Gender_list_=[]\n",
    "for i in a:\n",
    "    Gender_list_=Gender_list_+[i[-1]]\n",
    "Data['性別']=list_"
   ]
  },
  {
   "cell_type": "code",
   "execution_count": null,
   "metadata": {},
   "outputs": [],
   "source": [
    "#薪資成長率\n",
    "Agent_List=Data.業務員ID.unique()\n",
    "Wage_Sector=Data.groupby(by='業務員ID')\n",
    "c=0\n",
    "t1=time.time()\n",
    "for agent in Agent_List:\n",
    "    c=c+1\n",
    "    one_agent_table=Wage_Sector.get_group(agent).reset_index(drop=1)\n",
    "    yoy_list=[]\n",
    "    income_list=one_agent_table['Total']\n",
    "    for index in range(len(income_list)):\n",
    "        if index ==0:\n",
    "            yoy_list.append(0)\n",
    "        else :\n",
    "            yoy_list.append((income_list[index]-income_list[index-1])/income_list[index-1])\n",
    "    one_agent_table['Wage_YoY']=yoy_list\n",
    "    if c==1:\n",
    "        df=one_agent_table\n",
    "    else:\n",
    "        df=df.append(one_agent_table,ignore_index=True)\n",
    "    if c%1000==0:\n",
    "        t2=time.time()\n",
    "        print(str(int(t2-t1))+' seconds used and '+str(round((c/15976),2))+' is finished')\n",
    "    "
   ]
  },
  {
   "cell_type": "code",
   "execution_count": null,
   "metadata": {},
   "outputs": [],
   "source": [
    "#by年資的薪資水平\n",
    "#先group by職級\n",
    "for exp_table in Data.groupby('exp'):\n",
    "    exp_table=exp_table[1]\n",
    "    for wage_rk_table in exp_table.groupby('work_month'):\n",
    "        wage_rk_table=wage_rk_table[1]\n",
    "        temp_list=[stats.percentileofscore(wage_rk_table['Total'], a, 'rank') for a in wage_rk_table['Total']]\n",
    "        wage_rk_table['W_Rank_by_exp']=temp_list\n",
    "        for index in wage_rk_table.index:\n",
    "            Data.at[index,'W_Rank_by_exp']=wage_rk_table.at[index,'W_Rank_by_exp']"
   ]
  },
  {
   "cell_type": "code",
   "execution_count": null,
   "metadata": {},
   "outputs": [],
   "source": [
    "#by職級的薪資水平\n",
    "#先group by職級\n",
    "for pos_table in Data.groupby('Pos_Ini'):\n",
    "    pos_table=pos_table[1]\n",
    "    for wage_rk_table in pos_table.groupby('work_month'):\n",
    "        wage_rk_table=wage_rk_table[1]\n",
    "        temp_list=[stats.percentileofscore(wage_rk_table['Total'], a, 'rank') for a in wage_rk_table['Total']]\n",
    "        wage_rk_table['W_Rank_by_Pos']=temp_list\n",
    "        for index in wage_rk_table.index:\n",
    "            Data.at[index,'W_Rank_by_Pos']=wage_rk_table.at[index,'W_Rank_by_Pos']"
   ]
  },
  {
   "cell_type": "code",
   "execution_count": null,
   "metadata": {},
   "outputs": [],
   "source": [
    "#by職級的薪資水平的變動率(與前一個月比較)\n",
    "for ID_table in  Data.groupby('業務員ID'):\n",
    "    ID_table=ID_table[1].sort_values(by='work_month')\n",
    "    a=0\n",
    "    mark_list=[]\n",
    "    for rank in ID_table['W_Rank_by_Pos']:\n",
    "        a=a+1\n",
    "        if a==1:\n",
    "            temp=rank\n",
    "            mark_list.append(0)\n",
    "        elif rank>=temp:\n",
    "            temp=rank\n",
    "            mark_list.append(1)\n",
    "        elif rank<temp:\n",
    "            temp=rank\n",
    "            mark_list.append(-1)\n",
    "        else:\n",
    "            print('aaaa')\n",
    "            temp=rank\n",
    "            mark_list.append(2)\n",
    "    ID_table['delta_1m']=mark_list\n",
    "    for index in ID_table.index:\n",
    "        Data.at[index,'delta_1m']=ID_table.at[index,'delta_1m']"
   ]
  },
  {
   "cell_type": "code",
   "execution_count": null,
   "metadata": {},
   "outputs": [],
   "source": [
    "#by職級的薪資水平的變動率(與前兩個月比較)\n",
    "for ID_table in  Data.groupby('業務員ID'):\n",
    "    ID_table=ID_table[1].sort_values(by='work_month')\n",
    "    a=0\n",
    "    mark_list=[]\n",
    "    for rank in ID_table['W_Rank_by_Pos']:\n",
    "        a=a+1\n",
    "        if a==1:\n",
    "            temp_small=rank\n",
    "            mark_list.append(0)\n",
    "        elif a==2:\n",
    "            temp_small_2=rank\n",
    "            mark_list.append(0)\n",
    "        elif a>2:\n",
    "            if rank>=temp_small:\n",
    "                mark_list.append(1)\n",
    "                temp_small=temp_small_2\n",
    "                temp_small_2=rank\n",
    "            elif rank<temp_small:\n",
    "                mark_list.append(-1)\n",
    "                temp_small=temp_small_2\n",
    "                temp_small_2=rank\n",
    "            else:\n",
    "                mark_list.append(0)\n",
    "            \n",
    "            \n",
    "    ID_table['delta_2m']=mark_list\n",
    "    for index in ID_table.index:\n",
    "        Data.at[index,'delta_2m']=ID_table.at[index,'delta_2m']"
   ]
  },
  {
   "cell_type": "code",
   "execution_count": null,
   "metadata": {},
   "outputs": [],
   "source": [
    "#by職級的薪資水平的變動率(與前三個月比較)\n",
    "for ID_table in  Data.groupby('業務員ID'):\n",
    "    ID_table=ID_table[1].sort_values(by='work_month')\n",
    "    a=0\n",
    "    mark_list=[]\n",
    "    for rank in ID_table['W_Rank_by_Pos']:\n",
    "        a=a+1\n",
    "        if a==1:\n",
    "            temp_small=rank\n",
    "            mark_list.append(0)\n",
    "        elif a==2:\n",
    "            temp_small_2=rank\n",
    "            mark_list.append(0)\n",
    "        elif a==3:\n",
    "            temp_small_3=rank\n",
    "            mark_list.append(0)\n",
    "        elif a>3:\n",
    "            if rank>=temp_small:\n",
    "                mark_list.append(1)\n",
    "                temp_small=temp_small_2\n",
    "                temp_small_2=temp_small_3\n",
    "                temp_small_3=rank\n",
    "            elif rank<temp_small:\n",
    "                mark_list.append(-1)\n",
    "                temp_small=temp_small_2\n",
    "                temp_small_2=temp_small_3\n",
    "                temp_small_3=rank\n",
    "            else:\n",
    "                mark_list.append(0)\n",
    "            \n",
    "            \n",
    "    ID_table['delta_3m']=mark_list\n",
    "    for index in ID_table.index:\n",
    "        Data.at[index,'delta_3m']=ID_table.at[index,'delta_3m']"
   ]
  },
  {
   "cell_type": "code",
   "execution_count": null,
   "metadata": {},
   "outputs": [],
   "source": [
    "mark_list"
   ]
  },
  {
   "cell_type": "code",
   "execution_count": null,
   "metadata": {},
   "outputs": [],
   "source": [
    "Data.sort_values(by=)"
   ]
  },
  {
   "cell_type": "code",
   "execution_count": null,
   "metadata": {},
   "outputs": [],
   "source": [
    "Data[Data['業務員ID']=='A101269013']"
   ]
  },
  {
   "cell_type": "code",
   "execution_count": null,
   "metadata": {},
   "outputs": [],
   "source": [
    "df.to_csv('業務脫退率大表_0813.csv',encoding='utf-8')"
   ]
  },
  {
   "cell_type": "code",
   "execution_count": null,
   "metadata": {},
   "outputs": [],
   "source": [
    "df['職務代號_開頭']=np.array(df['職務代號'].tolist()).astype('<U1')"
   ]
  },
  {
   "cell_type": "code",
   "execution_count": null,
   "metadata": {},
   "outputs": [],
   "source": [
    "s=df.groupby(by='職務代號_開頭').size()\n",
    "list_position=df.職務代號_開頭.unique()\n",
    "for i in list_position:\n",
    "    table=s.get_group(i).reset_index(drop=True)\n",
    "    "
   ]
  },
  {
   "cell_type": "code",
   "execution_count": null,
   "metadata": {},
   "outputs": [],
   "source": [
    "a=df['年齡']\n",
    "quantile_list[]"
   ]
  },
  {
   "cell_type": "code",
   "execution_count": null,
   "metadata": {},
   "outputs": [],
   "source": [
    "def seniority_rank(row):\n",
    "    a = map_rank[row['年齡']]\n",
    "    if row['本次報聘年資']<0:\n",
    "        return 0\n",
    "    elif row['本次報聘年資']<quantile_list[a][0]:\n",
    "        return 1\n",
    "    elif row['本次報聘年資']<quantile_list[a][1]:\n",
    "        return 2\n",
    "    elif row['本次報聘年資']<quantile_list[a][2]:\n",
    "        return 3\n",
    "    else:\n",
    "        return 4\n",
    "df['職位年齡比']=df.apply(lambda row: seniority_rank(row), axis=1)"
   ]
  },
  {
   "cell_type": "code",
   "execution_count": null,
   "metadata": {},
   "outputs": [],
   "source": [
    "s=Data.groupby('性別')"
   ]
  },
  {
   "cell_type": "code",
   "execution_count": null,
   "metadata": {},
   "outputs": [],
   "source": [
    "Data=Data[Data['性別'].isin(['1','2'])]"
   ]
  },
  {
   "cell_type": "code",
   "execution_count": null,
   "metadata": {},
   "outputs": [],
   "source": [
    "Data=Data.reset_index(drop=1)"
   ]
  },
  {
   "cell_type": "code",
   "execution_count": null,
   "metadata": {},
   "outputs": [],
   "source": [
    "Data.to_csv('業務脫退率大表.csv',encoding='utf-8')"
   ]
  },
  {
   "cell_type": "code",
   "execution_count": null,
   "metadata": {},
   "outputs": [],
   "source": [
    "Data.rename(columns={'原始報聘日期': 'str_date'},inplace=True)"
   ]
  },
  {
   "cell_type": "markdown",
   "metadata": {},
   "source": [
    "# Catboost"
   ]
  },
  {
   "cell_type": "code",
   "execution_count": null,
   "metadata": {},
   "outputs": [],
   "source": [
    "from catboost import CatBoostClassifier, Pool"
   ]
  },
  {
   "cell_type": "code",
   "execution_count": null,
   "metadata": {},
   "outputs": [],
   "source": [
    "import catboost"
   ]
  },
  {
   "cell_type": "markdown",
   "metadata": {},
   "source": [
    "# Random Forest"
   ]
  },
  {
   "cell_type": "code",
   "execution_count": null,
   "metadata": {},
   "outputs": [],
   "source": [
    "'''\n",
    "==========================================    脫退模型    ==========================================\n",
    "'''\n",
    "\n",
    "'''\n",
    "X=['年度','月份','當月所得','首佣', '續佣', '業績獎金', '其他(總扣F、R、O)',\\\n",
    "    '學位代號','age','本次報聘年資', '年資等級','首佣_組內PR值','續佣_組內PR值', '業績獎金_組內PR值',\\\n",
    "    '其他(總扣F、R、O)_組內PR值', '當月所得_組內PR值', '職級分類_0PSR_到_5DM','當月有增員','當月增員人數(登錄)','性別','身份證開頭_數字']\n",
    "'''\n",
    "from sklearn import cross_validation, ensemble, preprocessing, metrics\n",
    "X=[ 'DoB', 'str_date',  'Time', 'JOURNAL_NO',\n",
    "    'FYC', 'RYC', 'OR', 'Other', 'Total', 'work_month','age','exp','sex',\n",
    "   'Wage_YoY','W_Rank_by_Pos','delta_1m','delta_2m','delta_3m',\n",
    "  'W_Rank_by_exp']\n",
    "#Data=df\n",
    "#僅保留\"總在職期間_至20171231_月\"大於6個月者\n",
    "bad     =  Data[(Data['Left_3m']==1)]\n",
    "good    =  Data[(Data['Left_3m']==0)]\n",
    "print('bad smaple has '+str(len(bad))+' samples.')\n",
    "print('good smaple has '+str(len(good))+' samples.')\n",
    "\n",
    "K = 5\n",
    "kf = KFold(K, True)\n",
    "bad_sample = resample(bad,replace=True,n_samples=1000)\n",
    "good_sample = resample(good,replace=True,n_samples=1000)\n",
    "good_gen = kf.split(bad_sample)\n",
    "bad_gen = kf.split(good_sample)\n",
    "for ii in range(K):\n",
    "    good_train_index, good_test_index = next(good_gen)\n",
    "    bad_train_index, bad_test_index = next(bad_gen)\n",
    "    X_train = pd.concat([good_sample.iloc[good_train_index][X],\\\n",
    "                         bad_sample.iloc[bad_train_index][X]])\n",
    "    X_test = pd.concat([good_sample.iloc[good_test_index][X],\\\n",
    "                        bad_sample.iloc[bad_test_index][X]])\n",
    "    y_train = pd.concat([good_sample.iloc[good_train_index]['Left_3m'],\\\n",
    "                         bad_sample.iloc[bad_train_index]['Left_3m']])\n",
    "    y_test = pd.concat([good_sample.iloc[good_test_index]['Left_3m'],\\\n",
    "                        bad_sample.iloc[bad_test_index]['Left_3m']])\n",
    "    classifier = RandomForestClassifier(n_estimators=300, \\\n",
    "                                        criterion=\"gini\", \\\n",
    "                                        max_features=1, \\\n",
    "                                        n_jobs=-1,\\\n",
    "                                        max_depth=100,\n",
    "                                        class_weight={0:9,1:1}\n",
    "                                        #class_weight=\"balanced\"\n",
    "                                       )\n",
    "    classifier.fit(X_train, y_train)\n",
    "    y_pred = classifier.predict(X_test)\n",
    "    #print(confusion_matrix(y_test, y_pred))\n",
    "    accuracy = metrics.accuracy_score(y_test, y_pred)\n",
    "    print(accuracy)\n",
    "    #print(classification_report(y_test, y_pred))\n",
    "\n",
    "importances = classifier.feature_importances_\n",
    "indices = np.argsort(importances)\n",
    "cols = [X_train.columns[x] for x in indices]\n",
    "plt.figure(figsize=(10,6))\n",
    "plt.title('Feature Importances')\n",
    "plt.barh(range(len(indices)), importances[indices], color='b', align='center') \n",
    "plt.yticks(range(len(indices)), cols) \n",
    "plt.xlabel('Relative Importance')"
   ]
  },
  {
   "cell_type": "code",
   "execution_count": null,
   "metadata": {},
   "outputs": [],
   "source": [
    "Data.head()"
   ]
  },
  {
   "cell_type": "code",
   "execution_count": null,
   "metadata": {},
   "outputs": [],
   "source": [
    "Data=df.copy()"
   ]
  },
  {
   "cell_type": "code",
   "execution_count": null,
   "metadata": {},
   "outputs": [],
   "source": [
    "cols"
   ]
  },
  {
   "cell_type": "markdown",
   "metadata": {},
   "source": [
    "# Decision Tree"
   ]
  },
  {
   "cell_type": "code",
   "execution_count": null,
   "metadata": {},
   "outputs": [],
   "source": [
    "tree = DecisionTreeClassifier(criterion='gini',max_depth=7,random_state=0)"
   ]
  },
  {
   "cell_type": "code",
   "execution_count": null,
   "metadata": {},
   "outputs": [],
   "source": [
    "X=[ '生日', '原始報聘日期',  'Time', 'JOURNAL_NO',\n",
    "    'FYC', 'RYC', 'OR', 'Other', 'Total', '工作月份','年齡','年資','性別' ]\n",
    "\n",
    "#僅保留\"總在職期間_至20171231_月\"大於6個月者\n",
    "bad     =  Data[(Data['Left_3m']==1)]\n",
    "good    =  Data[(Data['Left_3m']==0)]\n",
    "print('bad smaple has '+str(len(bad))+' samples.')\n",
    "print('good smaple has '+str(len(good))+' samples.')\n",
    "\n",
    "\n",
    "K = 5\n",
    "kf = KFold(K, True)\n",
    "bad_sample = resample(bad,replace=True,n_samples=1000)\n",
    "good_sample = resample(good,replace=True,n_samples=1000)\n",
    "good_gen = kf.split(bad_sample)\n",
    "bad_gen = kf.split(good_sample)\n",
    "for ii in range(K):\n",
    "    good_train_index, good_test_index = next(good_gen)\n",
    "    bad_train_index, bad_test_index = next(bad_gen)\n",
    "    X_train = pd.concat([good_sample.iloc[good_train_index][X],\\\n",
    "                         bad_sample.iloc[bad_train_index][X]])\n",
    "    X_test = pd.concat([good_sample.iloc[good_test_index][X],\\\n",
    "                        bad_sample.iloc[bad_test_index][X]])\n",
    "    y_train = pd.concat([good_sample.iloc[good_train_index]['Left_3m'],\\\n",
    "                         bad_sample.iloc[bad_train_index]['Left_3m']])\n",
    "    y_test = pd.concat([good_sample.iloc[good_test_index]['Left_3m'],\\\n",
    "                        bad_sample.iloc[bad_test_index]['Left_3m']])\n",
    "    classifier = DecisionTreeClassifier(criterion='gini',max_depth=5,random_state=0)\n",
    "    classifier.fit(X_train, y_train)\n",
    "    y_pred = classifier.predict(X_test)\n",
    "    #print(confusion_matrix(y_test, y_pred))\n",
    "    accuracy = metrics.accuracy_score(y_test, y_pred)\n",
    "    print(accuracy)\n",
    "    #print(classification_report(y_test, y_pred))\n",
    "from sklearn.tree import export_graphviz\n",
    "export_graphviz(classifier)"
   ]
  },
  {
   "cell_type": "code",
   "execution_count": null,
   "metadata": {},
   "outputs": [],
   "source": [
    "import graphviz\n",
    "export_graphviz(classifier,feature_names=X)\n",
    "graph = graphviz.Source('tree.dot')"
   ]
  },
  {
   "cell_type": "markdown",
   "metadata": {},
   "source": [
    "# Below are Useless"
   ]
  },
  {
   "cell_type": "code",
   "execution_count": null,
   "metadata": {},
   "outputs": [],
   "source": [
    "Data.shape"
   ]
  },
  {
   "cell_type": "code",
   "execution_count": null,
   "metadata": {},
   "outputs": [],
   "source": [
    "Data.groupby(by='AGNTNUM')"
   ]
  },
  {
   "cell_type": "code",
   "execution_count": null,
   "metadata": {},
   "outputs": [],
   "source": [
    "Data[Data['AGNTNUM']==10223]"
   ]
  },
  {
   "cell_type": "code",
   "execution_count": null,
   "metadata": {},
   "outputs": [],
   "source": [
    "income_data.shape"
   ]
  },
  {
   "cell_type": "code",
   "execution_count": null,
   "metadata": {},
   "outputs": [],
   "source": [
    "young_agent=temp.copy()"
   ]
  },
  {
   "cell_type": "code",
   "execution_count": null,
   "metadata": {},
   "outputs": [],
   "source": [
    "temp = aa_data.copy()\n",
    "#計算年齡、年資\n",
    "temp['Age']=(20190726-temp['生日'])/10000\n",
    "temp['Seniority']=(20190726-temp['原始報聘日期'])/10000\n",
    "#取年齡年資Dif>20，確保資料無誤\n",
    "temp['Dif']=temp['Age']-temp['Seniority']\n",
    "temp=temp[(temp['Dif']>=20)&(temp['Age']<=70)]\n",
    "#篩出仍在職的人員\n",
    "temp= temp[(temp['解聘日期 ']==99999999)]\n",
    "temp.shape\n",
    "#篩出職級為E、C的人員\n",
    "temp['職務代號']=np.array(temp['職務代號'].tolist()).astype('<U1')\n",
    "temp1=temp[temp['職務代號'].isin(['E','D'])]\n",
    "temp2=temp[temp['職務代號'].isin(['C','E','D'])]\n",
    "#10779\n",
    "#10769"
   ]
  },
  {
   "cell_type": "code",
   "execution_count": null,
   "metadata": {},
   "outputs": [],
   "source": [
    "print(temp1.shape,temp2.shape)"
   ]
  },
  {
   "cell_type": "code",
   "execution_count": null,
   "metadata": {},
   "outputs": [],
   "source": [
    "#DE\n",
    "data=temp1\n",
    "from scipy.stats import gaussian_kde\n",
    "x=data['Age']\n",
    "y=data['Seniority']\n",
    "# Calculate the point density\n",
    "xy = np.vstack([x,y])\n",
    "z = gaussian_kde(xy)(xy)\n",
    "data.plot.scatter(x='Age',y='Seniority',s=45,c=z, edgecolor='')\n",
    "#len(data[data['Age']<=30])/len(data)\n",
    "#行政院 網路重度使用者 年稜分布"
   ]
  },
  {
   "cell_type": "code",
   "execution_count": null,
   "metadata": {},
   "outputs": [],
   "source": [
    "len(temp1[temp1['Age']<=37])/len(temp1)"
   ]
  },
  {
   "cell_type": "code",
   "execution_count": null,
   "metadata": {},
   "outputs": [],
   "source": [
    "#CDE\n",
    "data=temp2\n",
    "from scipy.stats import gaussian_kde\n",
    "x=data['Age']\n",
    "y=data['Seniority']\n",
    "# Calculate the point density\n",
    "xy = np.vstack([x,y])\n",
    "z = gaussian_kde(xy)(xy)\n",
    "#data.plot.scatter(x='Age',y='Seniority',s=45,c=z, edgecolor='')"
   ]
  },
  {
   "cell_type": "code",
   "execution_count": null,
   "metadata": {},
   "outputs": [],
   "source": [
    "len(temp2[temp2['Age']<=37])/len(temp2)"
   ]
  },
  {
   "cell_type": "code",
   "execution_count": null,
   "metadata": {},
   "outputs": [],
   "source": [
    "temp"
   ]
  },
  {
   "cell_type": "code",
   "execution_count": null,
   "metadata": {},
   "outputs": [],
   "source": [
    "temp.plot.scatter(x='Age',y='Seniority',s=45,c=z, edgecolor='')"
   ]
  },
  {
   "cell_type": "code",
   "execution_count": null,
   "metadata": {},
   "outputs": [],
   "source": [
    "fig, ax = plt.subplots()\n",
    "ax.scatter(x,y, c=z, s=25, edgecolor='')\n",
    "plt.show()"
   ]
  },
  {
   "cell_type": "code",
   "execution_count": null,
   "metadata": {},
   "outputs": [],
   "source": [
    "Data.to_csv('Resign_Rate_Model.csv')"
   ]
  },
  {
   "cell_type": "code",
   "execution_count": null,
   "metadata": {},
   "outputs": [],
   "source": []
  }
 ],
 "metadata": {
  "kernelspec": {
   "display_name": "Python 3",
   "language": "python",
   "name": "python3"
  },
  "language_info": {
   "codemirror_mode": {
    "name": "ipython",
    "version": 3
   },
   "file_extension": ".py",
   "mimetype": "text/x-python",
   "name": "python",
   "nbconvert_exporter": "python",
   "pygments_lexer": "ipython3",
   "version": "3.6.5"
  }
 },
 "nbformat": 4,
 "nbformat_minor": 2
}
